{
 "cells": [
  {
   "cell_type": "code",
   "execution_count": 4,
   "id": "f82c3cb5",
   "metadata": {},
   "outputs": [
    {
     "data": {
      "text/plain": [
       "'할인된 가격은 75050원 입니다'"
      ]
     },
     "execution_count": 4,
     "metadata": {},
     "output_type": "execute_result"
    }
   ],
   "source": [
    "def solution(price, grade):\n",
    "    answer = 0\n",
    "    \n",
    "    if grade == \"S\":\n",
    "        answer = price * 0.95\n",
    "    elif grade == \"G\":\n",
    "        answer = price * 0.90\n",
    "    elif grade == \"V\":\n",
    "        answer = price * 0.85\n",
    "        \n",
    "    return f\"할인된 가격은 {int(answer)}원 입니다\" #f-string 응용\n",
    "\n",
    "solution(79000, \"S\")\n"
   ]
  },
  {
   "cell_type": "code",
   "execution_count": null,
   "id": "ddb6acca",
   "metadata": {},
   "outputs": [],
   "source": []
  }
 ],
 "metadata": {
  "kernelspec": {
   "display_name": "Python 3",
   "language": "python",
   "name": "python3"
  },
  "language_info": {
   "codemirror_mode": {
    "name": "ipython",
    "version": 3
   },
   "file_extension": ".py",
   "mimetype": "text/x-python",
   "name": "python",
   "nbconvert_exporter": "python",
   "pygments_lexer": "ipython3",
   "version": "3.8.8"
  }
 },
 "nbformat": 4,
 "nbformat_minor": 5
}
