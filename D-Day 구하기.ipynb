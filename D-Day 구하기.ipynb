{
 "cells": [
  {
   "cell_type": "code",
   "execution_count": 1,
   "id": "9df1302b",
   "metadata": {},
   "outputs": [],
   "source": [
    "#시작 날짜와 끝 날짜가 주어질 때,두 날짜가 며칠만큼 떨어져있는지.\n",
    "#1 - 시작 날짜가 1월 1일로부터 며칠만큼 떨어져있는지.\n",
    "#2 - 끝 날짜가 1월 1일로부터 며칠만큼 떨어져있는지.\n",
    "#3 - (2단계에서 구한 날짜) - (1단계에서 구한 날짜)\n",
    "# startmonth, startday, endmonth, endday"
   ]
  },
  {
   "cell_type": "code",
   "execution_count": 2,
   "id": "1b99f3b0",
   "metadata": {},
   "outputs": [],
   "source": [
    "def func_a(month, date):\n",
    "    \n",
    "    total = 0\n",
    "    \n",
    "    month_date = [31, 28, 31, 30, 31, 30, 31, 31, 30, 31, 30, 31]\n",
    "    \n",
    "    for m in range(month - 1):\n",
    "        total += month_date[m]\n",
    "    total += date\n",
    "    \n",
    "    return total - 1"
   ]
  },
  {
   "cell_type": "code",
   "execution_count": 10,
   "id": "1ea4dffb",
   "metadata": {},
   "outputs": [],
   "source": [
    "def solution(startmonth, startday, endmonth, endday):\n",
    "    \n",
    "    total_end = func_a(endmonth, endday)\n",
    "    total_start = func_a(startmonth, startday)\n",
    "    \n",
    "    answer = total_end - total_start\n",
    "    \n",
    "    return f\"{startmonth}월 {startday}일은 {endmonth}월 {endday}일이 되기 {answer}일 전 입니다.\""
   ]
  },
  {
   "cell_type": "code",
   "execution_count": 11,
   "id": "8e35ea3b",
   "metadata": {},
   "outputs": [
    {
     "data": {
      "text/plain": [
       "'8월 26일은 9월 1일이 되기 6일 전 입니다.'"
      ]
     },
     "execution_count": 11,
     "metadata": {},
     "output_type": "execute_result"
    }
   ],
   "source": [
    "solution(8, 26, 9, 1)"
   ]
  },
  {
   "cell_type": "code",
   "execution_count": null,
   "id": "642c8912",
   "metadata": {},
   "outputs": [],
   "source": []
  }
 ],
 "metadata": {
  "kernelspec": {
   "display_name": "Python 3",
   "language": "python",
   "name": "python3"
  },
  "language_info": {
   "codemirror_mode": {
    "name": "ipython",
    "version": 3
   },
   "file_extension": ".py",
   "mimetype": "text/x-python",
   "name": "python",
   "nbconvert_exporter": "python",
   "pygments_lexer": "ipython3",
   "version": "3.8.8"
  }
 },
 "nbformat": 4,
 "nbformat_minor": 5
}
