{
 "cells": [
  {
   "cell_type": "code",
   "execution_count": 3,
   "id": "663f0037",
   "metadata": {},
   "outputs": [
    {
     "name": "stdout",
     "output_type": "stream",
     "text": [
      "1 2 짝! 4 5 짝! 7 8 짝! 10 11 12 짝! 14 15 짝! 17 18 짝! 20 21 22 짝! 24 25 짝! 27 28 짝! 짝! 짝! 짝! 짝!짝! 짝! 짝! 짝!짝! 짝! 짝! 짝!짝! 40 41 42 짝! 44 45 짝! 47 48 짝! 50 51 52 짝! 54 55 짝! 57 58 짝! 짝! 짝! 짝! 짝!짝! 짝! 짝! 짝!짝! 짝! 짝! 짝!짝! 70 71 72 짝! 74 75 짝! 77 78 짝! 80 81 82 짝! 84 85 짝! 87 88 짝! 짝! 짝! 짝! 짝!짝! 짝! 짝! 짝!짝! 짝! 짝! 짝!짝! 100 101 102 짝! 104 105 짝! 107 108 짝! 110 111 \n"
     ]
    },
    {
     "data": {
      "text/plain": [
       "63"
      ]
     },
     "execution_count": 3,
     "metadata": {},
     "output_type": "execute_result"
    }
   ],
   "source": [
    "def solution(number):\n",
    "    count = 0\n",
    "    for i in range(1, number + 1):\n",
    "        current = i\n",
    "        temp = count\n",
    "        while current != 0:\n",
    "            if current % 10 == 3 or current % 10 == 6 or current % 10 == 9:\n",
    "                count += 1\n",
    "                print(\"짝!\", end = '')\n",
    "            current = current // 10\n",
    "        if temp == count:\n",
    "            print(i, end = '')\n",
    "        print(\" \", end = '')\n",
    "    print(\"\")\n",
    "                \n",
    "    return count\n",
    "\n",
    "number = 111\n",
    "solution(number)"
   ]
  }
 ],
 "metadata": {
  "kernelspec": {
   "display_name": "Python 3",
   "language": "python",
   "name": "python3"
  },
  "language_info": {
   "codemirror_mode": {
    "name": "ipython",
    "version": 3
   },
   "file_extension": ".py",
   "mimetype": "text/x-python",
   "name": "python",
   "nbconvert_exporter": "python",
   "pygments_lexer": "ipython3",
   "version": "3.8.8"
  }
 },
 "nbformat": 4,
 "nbformat_minor": 5
}
