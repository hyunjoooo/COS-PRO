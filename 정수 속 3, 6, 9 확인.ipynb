{
 "cells": [
  {
   "cell_type": "code",
   "execution_count": null,
   "id": "663f0037",
   "metadata": {},
   "outputs": [],
   "source": [
    "def solution(number):\n",
    "    return answer\n",
    "\n",
    "1 ~ 10 3 6 9 \n",
    "1 ~ 20 3 6 9 13 16 19 \n",
    "1 ~ 30 23 26 29\n",
    "1 ~ 40 31 32 33 34\n",
    "\n",
    "133 "
   ]
  }
 ],
 "metadata": {
  "kernelspec": {
   "display_name": "Python 3",
   "language": "python",
   "name": "python3"
  },
  "language_info": {
   "codemirror_mode": {
    "name": "ipython",
    "version": 3
   },
   "file_extension": ".py",
   "mimetype": "text/x-python",
   "name": "python",
   "nbconvert_exporter": "python",
   "pygments_lexer": "ipython3",
   "version": "3.8.8"
  }
 },
 "nbformat": 4,
 "nbformat_minor": 5
}
