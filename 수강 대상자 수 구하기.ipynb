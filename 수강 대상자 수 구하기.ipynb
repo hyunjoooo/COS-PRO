{
 "cells": [
  {
   "cell_type": "code",
   "execution_count": 3,
   "id": "ae8b9548",
   "metadata": {},
   "outputs": [
    {
     "data": {
      "text/plain": [
       "3"
      ]
     },
     "execution_count": 3,
     "metadata": {},
     "output_type": "execute_result"
    }
   ],
   "source": [
    "# 수준별 영어강의. 초급 영어 강의 - 토익시험에서 650점 이상 800점 미만의 성적을 취득한 학생\n",
    "# 초급 영어 강의에 수강신청한 사람이 10명, 몇명이 수강 대상에 해당하는지\n",
    "# def solution(scores)대상자의 인원수를 return\n",
    "\n",
    "def solution(scores):\n",
    "    answer = 0\n",
    "    for s in scores:\n",
    "        if s >= 650 and s < 800:\n",
    "            answer += 1\n",
    "    return answer\n",
    "\n",
    "\n",
    "scores = [660, 750, 830, 580, 930, 560, 740]\n",
    "solution(scores)"
   ]
  }
 ],
 "metadata": {
  "kernelspec": {
   "display_name": "Python 3",
   "language": "python",
   "name": "python3"
  },
  "language_info": {
   "codemirror_mode": {
    "name": "ipython",
    "version": 3
   },
   "file_extension": ".py",
   "mimetype": "text/x-python",
   "name": "python",
   "nbconvert_exporter": "python",
   "pygments_lexer": "ipython3",
   "version": "3.8.8"
  }
 },
 "nbformat": 4,
 "nbformat_minor": 5
}
