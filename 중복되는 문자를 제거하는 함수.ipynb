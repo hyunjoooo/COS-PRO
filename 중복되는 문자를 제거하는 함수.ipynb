{
 "cells": [
  {
   "cell_type": "code",
   "execution_count": 1,
   "id": "ed648ac0",
   "metadata": {},
   "outputs": [],
   "source": [
    "#알파벳 문자열이 주어질 때 연속하는 중복 문자를 삭제."
   ]
  },
  {
   "cell_type": "code",
   "execution_count": 7,
   "id": "9a066626",
   "metadata": {},
   "outputs": [
    {
     "data": {
      "text/plain": [
       "'sentence'"
      ]
     },
     "execution_count": 7,
     "metadata": {},
     "output_type": "execute_result"
    }
   ],
   "source": [
    "def solution(characters): #ssssssentencecce\n",
    "    answer = ''\n",
    "    answer += characters[0]\n",
    "    for c in range(1, len(characters)):\n",
    "        if characters[c - 1] != characters[c]:\n",
    "            answer += characters[c]\n",
    "    return answer\n",
    "\n",
    "characters = \"sseeeenteeeennnnccccceeee\"\n",
    "solution(characters)"
   ]
  }
 ],
 "metadata": {
  "kernelspec": {
   "display_name": "Python 3",
   "language": "python",
   "name": "python3"
  },
  "language_info": {
   "codemirror_mode": {
    "name": "ipython",
    "version": 3
   },
   "file_extension": ".py",
   "mimetype": "text/x-python",
   "name": "python",
   "nbconvert_exporter": "python",
   "pygments_lexer": "ipython3",
   "version": "3.8.8"
  }
 },
 "nbformat": 4,
 "nbformat_minor": 5
}
