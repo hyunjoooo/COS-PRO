{
 "cells": [
  {
   "cell_type": "code",
   "execution_count": 1,
   "id": "67669209",
   "metadata": {},
   "outputs": [],
   "source": [
    "# 앞에서부터 읽으나 뒤에서부터 읽으나 똑같은 단어 / 문장을 팰린드롬 ex. racecar, noon\n",
    "# 소문자 알파벳,공백, 마침표로 이루어진 문장이 팰린드롬인지 확인 ex. never odd or even"
   ]
  },
  {
   "cell_type": "code",
   "execution_count": 17,
   "id": "5cbba349",
   "metadata": {},
   "outputs": [
    {
     "data": {
      "text/plain": [
       "True"
      ]
     },
     "execution_count": 17,
     "metadata": {},
     "output_type": "execute_result"
    }
   ],
   "source": [
    "def solution(sentence):\n",
    "    check = ''\n",
    "    for c in sentence:\n",
    "        if c != ' ' and c != \".\":\n",
    "            check += c\n",
    "    \n",
    "    size = len(check)\n",
    "    for i in range(size//2):\n",
    "        if check[i] != check[size - 1 - i]:\n",
    "            return False\n",
    "    return True\n",
    "\n",
    "sentence = \".never odd or even\"\n",
    "solution(sentence)"
   ]
  }
 ],
 "metadata": {
  "kernelspec": {
   "display_name": "Python 3",
   "language": "python",
   "name": "python3"
  },
  "language_info": {
   "codemirror_mode": {
    "name": "ipython",
    "version": 3
   },
   "file_extension": ".py",
   "mimetype": "text/x-python",
   "name": "python",
   "nbconvert_exporter": "python",
   "pygments_lexer": "ipython3",
   "version": "3.8.8"
  }
 },
 "nbformat": 4,
 "nbformat_minor": 5
}
