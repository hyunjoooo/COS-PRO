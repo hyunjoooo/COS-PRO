{
 "cells": [
  {
   "cell_type": "code",
   "execution_count": 20,
   "id": "cdfc66cf",
   "metadata": {},
   "outputs": [
    {
     "data": {
      "text/plain": [
       "[1, 1, 1, 0, 1, 1]"
      ]
     },
     "execution_count": 20,
     "metadata": {},
     "output_type": "execute_result"
    }
   ],
   "source": [
    "shirt_size = {\"S\", \"XS\", \"M\", \"S\", \"XXL\", \"XL\", \"S\", \"XS\", \"M\", \"M\"}\n",
    "\n",
    "\n",
    "def solution(shirt_size):\n",
    "    \n",
    "    answer = [0, 0, 0, 0, 0, 0]\n",
    "    \n",
    "    for s in shirt_size:\n",
    "        if s == \"XS\":\n",
    "            answer[0] += 1\n",
    "        elif s == \"S\":\n",
    "            answer[1] += 1\n",
    "        elif s == \"M\":\n",
    "            answer[2] += 1\n",
    "        elif s == \"L\":\n",
    "            answer[3] += 1\n",
    "        elif s == \"XL\":\n",
    "            answer[4] += 1\n",
    "        elif s == \"XXL\":\n",
    "            answer[5] += 1\n",
    "    \n",
    "    return answer\n",
    "\n",
    "solution(shirt_size)"
   ]
  },
  {
   "cell_type": "code",
   "execution_count": null,
   "id": "01b3888d",
   "metadata": {},
   "outputs": [],
   "source": []
  },
  {
   "cell_type": "code",
   "execution_count": null,
   "id": "069b7e5f",
   "metadata": {},
   "outputs": [],
   "source": []
  },
  {
   "cell_type": "code",
   "execution_count": null,
   "id": "f44e032c",
   "metadata": {},
   "outputs": [],
   "source": []
  }
 ],
 "metadata": {
  "kernelspec": {
   "display_name": "Python 3",
   "language": "python",
   "name": "python3"
  },
  "language_info": {
   "codemirror_mode": {
    "name": "ipython",
    "version": 3
   },
   "file_extension": ".py",
   "mimetype": "text/x-python",
   "name": "python",
   "nbconvert_exporter": "python",
   "pygments_lexer": "ipython3",
   "version": "3.8.8"
  }
 },
 "nbformat": 4,
 "nbformat_minor": 5
}
