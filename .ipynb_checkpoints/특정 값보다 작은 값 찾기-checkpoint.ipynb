{
 "cells": [
  {
   "cell_type": "code",
   "execution_count": 1,
   "id": "e76334e2",
   "metadata": {},
   "outputs": [],
   "source": [
    "# 자연수가 들어있는 리스트의 평균을 구하고, 평균 이하인 숫자는 몇 개 있는지 구하려 합니다."
   ]
  },
  {
   "cell_type": "code",
   "execution_count": 7,
   "id": "a16febb1",
   "metadata": {},
   "outputs": [
    {
     "name": "stdout",
     "output_type": "stream",
     "text": [
      "25\n",
      "5.0\n",
      "2\n",
      "리스트의 평균은 5.0이고, 평균 이하의 숫자는 2개 입니다.\n"
     ]
    }
   ],
   "source": [
    "def solution(data):\n",
    "    \n",
    "    add_list = 0\n",
    "    \n",
    "    for i in data:\n",
    "        add_list += i\n",
    "    avr = add_list / len(data)\n",
    "    \n",
    "    print(add_list)\n",
    "    print(avr)\n",
    "    \n",
    "    count = 0\n",
    "    \n",
    "    for i in data:\n",
    "        if i < avr:\n",
    "            count += 1\n",
    "    print(count)\n",
    "\n",
    "    print(f\"리스트의 평균은 {avr}이고, 평균 이하의 숫자는 {count}개 입니다.\")\n",
    "\n",
    "data = [3, 4, 5, 6, 7]\n",
    "solution(data)"
   ]
  }
 ],
 "metadata": {
  "kernelspec": {
   "display_name": "Python 3",
   "language": "python",
   "name": "python3"
  },
  "language_info": {
   "codemirror_mode": {
    "name": "ipython",
    "version": 3
   },
   "file_extension": ".py",
   "mimetype": "text/x-python",
   "name": "python",
   "nbconvert_exporter": "python",
   "pygments_lexer": "ipython3",
   "version": "3.8.8"
  }
 },
 "nbformat": 4,
 "nbformat_minor": 5
}
