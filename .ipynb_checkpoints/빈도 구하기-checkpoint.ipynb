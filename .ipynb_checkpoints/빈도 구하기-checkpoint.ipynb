{
 "cells": [
  {
   "cell_type": "code",
   "execution_count": 19,
   "id": "a5232afd",
   "metadata": {},
   "outputs": [],
   "source": [
    "# 리스트에서 가장 많이 등장하는 숫자의 개수는 가장 적게 등장하는 숫자 개수의 몇 배인지\n",
    "\n",
    "# 1 - 리스트에 들어있는 각 자연수의 개수를 셉니다.\n",
    "# 2 - 가장 많이 등장하는 숫자의 개수를 셉니다.\n",
    "# 3 - 가장 적게 등장하는 숫자의 개수를 셉니다.\n",
    "# 4 - 가장 많이 등장하는 수가 가장 적게 등장하는 수보다 몇 배 더 많은지 구합니다."
   ]
  },
  {
   "cell_type": "code",
   "execution_count": 20,
   "id": "afbc4c65",
   "metadata": {},
   "outputs": [
    {
     "data": {
      "text/plain": [
       "'가장 많이 등장하는 수는 3번 등장하고, 가장 적게 등장하는 수는 1보다 3배 많이 등장합니다.'"
      ]
     },
     "execution_count": 20,
     "metadata": {},
     "output_type": "execute_result"
    }
   ],
   "source": [
    "\n",
    "def func_a(arr):\n",
    "    count = [0 for _ in range(1001)]\n",
    "    for a in arr:\n",
    "        count[a] += 1\n",
    "    return count\n",
    "\n",
    "def func_b(count):\n",
    "    maxx = 0\n",
    "    for c in count:\n",
    "        if c > maxx:\n",
    "            maxx = c\n",
    "    return maxx\n",
    "\n",
    "def func_c(count):\n",
    "    minn = 999\n",
    "    for c in count:\n",
    "        if c!= 0 and c < minn:\n",
    "            minn = c\n",
    "    return minn\n",
    "\n",
    "\n",
    "def solution(arr):\n",
    "    count = func_a(arr)\n",
    "    maxx = func_b(count)\n",
    "    minn = func_c(count)\n",
    "    \n",
    "    answer = f\"가장 많이 등장하는 수는 {maxx}번 등장하고, 가장 적게 등장하는 수는 {minn}보다 {maxx // minn}배 많이 등장합니다.\"\n",
    "    return answer\n",
    "\n",
    "arr = [3, 3, 3, 5, 1000, 1]\n",
    "solution(arr)"
   ]
  },
  {
   "cell_type": "code",
   "execution_count": null,
   "id": "67a0f8e9",
   "metadata": {},
   "outputs": [],
   "source": []
  }
 ],
 "metadata": {
  "kernelspec": {
   "display_name": "Python 3",
   "language": "python",
   "name": "python3"
  },
  "language_info": {
   "codemirror_mode": {
    "name": "ipython",
    "version": 3
   },
   "file_extension": ".py",
   "mimetype": "text/x-python",
   "name": "python",
   "nbconvert_exporter": "python",
   "pygments_lexer": "ipython3",
   "version": "3.8.8"
  }
 },
 "nbformat": 4,
 "nbformat_minor": 5
}
